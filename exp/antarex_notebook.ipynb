{
 "cells": [
  {
   "cell_type": "code",
   "execution_count": 7,
   "metadata": {
    "pycharm": {
     "is_executing": false
    }
   },
   "outputs": [],
   "source": [
    "import pandas as pd\n",
    "import numpy as np\n",
    "import matplotlib.pyplot as plt\n",
    "import seaborn as sns\n",
    "%matplotlib inline"
   ]
  },
  {
   "cell_type": "code",
   "execution_count": 8,
   "metadata": {
    "pycharm": {
     "is_executing": false,
     "name": "#%%\n"
    }
   },
   "outputs": [
    {
     "name": "stdout",
     "output_type": "stream",
     "text": [
      "#Time\n",
      "#Time.1\n",
      "#Time.2\n",
      "#Time.3\n",
      "#Time.4\n",
      "#Time.5\n"
     ]
    }
   ],
   "source": [
    "# csv = 'concat_partial_head.csv'\n",
    "csv = 'concat_all.csv'\n",
    "df = pd.read_csv(csv)\n",
    "\n",
    "time_list = []\n",
    "for v in df.columns.values:\n",
    "    if '#Time' in v:\n",
    "        print(v)\n",
    "        time_list.append(v)"
   ]
  },
  {
   "cell_type": "code",
   "execution_count": 9,
   "metadata": {
    "pycharm": {
     "is_executing": false,
     "name": "#%%\n"
    }
   },
   "outputs": [
    {
     "name": "stdout",
     "output_type": "stream",
     "text": [
      "1525853149.0\n",
      "1525853148.143137\n",
      "1525853148.168186\n",
      "1525853148.142457\n",
      "1525853148.1430721\n",
      "1525853147\n"
     ]
    }
   ],
   "source": [
    "for t in time_list:\n",
    "    print(df[t][0])\n",
    "\n"
   ]
  },
  {
   "cell_type": "code",
   "execution_count": 10,
   "metadata": {
    "pycharm": {
     "is_executing": false,
     "name": "#%%\n"
    }
   },
   "outputs": [],
   "source": [
    "df.drop(['#Time.1', '#Time.2', '#Time.3', '#Time.4', '#Time.5'], axis=1, inplace=True)"
   ]
  },
  {
   "cell_type": "code",
   "execution_count": 11,
   "metadata": {
    "pycharm": {
     "is_executing": false,
     "name": "#%%\n"
    }
   },
   "outputs": [
    {
     "data": {
      "text/plain": [
       "array(['Unnamed: 0', '#Time', 'Time_usec', 'ProducerName', 'component_id',\n",
       "       'job_id', 'nr_free_pages', 'nr_alloc_batch', 'nr_inactive_anon',\n",
       "       'nr_active_anon', 'nr_inactive_file', 'nr_active_file',\n",
       "       'nr_unevictable', 'nr_mlock', 'nr_anon_pages', 'nr_mapped',\n",
       "       'nr_file_pages', 'nr_dirty', 'nr_writeback', 'nr_slab_reclaimable',\n",
       "       'nr_slab_unreclaimable', 'nr_page_table_pages', 'nr_kernel_stack',\n",
       "       'nr_unstable', 'nr_bounce', 'nr_vmscan_write',\n",
       "       'nr_vmscan_immediate_reclaim', 'nr_writeback_temp',\n",
       "       'nr_isolated_anon', 'nr_isolated_file', 'nr_shmem', 'nr_dirtied',\n",
       "       'nr_written', 'numa_hit', 'numa_miss', 'numa_foreign',\n",
       "       'numa_interleave', 'numa_local', 'numa_other',\n",
       "       'workingset_refault', 'workingset_activate',\n",
       "       'workingset_nodereclaim', 'nr_anon_transparent_hugepages',\n",
       "       'nr_free_cma', 'nr_dirty_threshold',\n",
       "       'nr_dirty_background_threshold', 'pgpgin', 'pgpgout', 'pswpin',\n",
       "       'pswpout', 'pgalloc_dma', 'pgalloc_dma32', 'pgalloc_normal',\n",
       "       'pgalloc_movable', 'pgfree', 'pgactivate', 'pgdeactivate',\n",
       "       'pgfault', 'pgmajfault', 'pgrefill_dma', 'pgrefill_dma32',\n",
       "       'pgrefill_normal', 'pgrefill_movable', 'pgsteal_kswapd_dma',\n",
       "       'pgsteal_kswapd_dma32', 'pgsteal_kswapd_normal',\n",
       "       'pgsteal_kswapd_movable', 'pgsteal_direct_dma',\n",
       "       'pgsteal_direct_dma32', 'pgsteal_direct_normal',\n",
       "       'pgsteal_direct_movable', 'pgscan_kswapd_dma',\n",
       "       'pgscan_kswapd_dma32', 'pgscan_kswapd_normal',\n",
       "       'pgscan_kswapd_movable', 'pgscan_direct_dma',\n",
       "       'pgscan_direct_dma32', 'pgscan_direct_normal',\n",
       "       'pgscan_direct_movable', 'pgscan_direct_throttle',\n",
       "       'zone_reclaim_failed', 'pginodesteal', 'slabs_scanned',\n",
       "       'kswapd_inodesteal', 'kswapd_low_wmark_hit_quickly',\n",
       "       'kswapd_high_wmark_hit_quickly', 'pageoutrun', 'allocstall',\n",
       "       'pgrotated', 'drop_pagecache', 'drop_slab', 'numa_pte_updates',\n",
       "       'numa_huge_pte_updates', 'numa_hint_faults',\n",
       "       'numa_hint_faults_local', 'numa_pages_migrated',\n",
       "       'pgmigrate_success', 'pgmigrate_fail', 'compact_migrate_scanned',\n",
       "       'compact_free_scanned', 'compact_isolated', 'compact_stall',\n",
       "       'compact_fail', 'compact_success', 'htlb_buddy_alloc_success',\n",
       "       'htlb_buddy_alloc_fail', 'unevictable_pgs_culled',\n",
       "       'unevictable_pgs_scanned', 'unevictable_pgs_rescued',\n",
       "       'unevictable_pgs_mlocked', 'unevictable_pgs_munlocked',\n",
       "       'unevictable_pgs_cleared', 'unevictable_pgs_stranded',\n",
       "       'thp_fault_alloc', 'thp_fault_fallback', 'thp_collapse_alloc',\n",
       "       'thp_collapse_alloc_failed', 'thp_split', 'thp_zero_page_alloc',\n",
       "       'thp_zero_page_alloc_failed', 'Time_usec.1', 'ProducerName.1',\n",
       "       'component_id.1', 'job_id.1', 'MemTotal', 'MemFree',\n",
       "       'MemAvailable', 'Buffers', 'Cached', 'SwapCached', 'Active',\n",
       "       'Inactive', 'Active(anon)', 'Inactive(anon)', 'Active(file)',\n",
       "       'Inactive(file)', 'Unevictable', 'Mlocked', 'SwapTotal',\n",
       "       'SwapFree', 'Dirty', 'Writeback', 'AnonPages', 'Mapped', 'Shmem',\n",
       "       'Slab', 'SReclaimable', 'SUnreclaim', 'KernelStack', 'PageTables',\n",
       "       'NFS_Unstable', 'Bounce', 'WritebackTmp', 'CommitLimit',\n",
       "       'Committed_AS', 'VmallocTotal', 'VmallocUsed', 'VmallocChunk',\n",
       "       'HardwareCorrupted', 'AnonHugePages', 'HugePages_Total',\n",
       "       'HugePages_Free', 'HugePages_Rsvd', 'HugePages_Surp',\n",
       "       'Hugepagesize', 'DirectMap4k', 'DirectMap2M', 'DirectMap1G',\n",
       "       'Time_usec.2', 'ProducerName.2', 'component_id.2', 'job_id.2',\n",
       "       'mc0_ce_count', 'mc0_ce_noinfo_count', 'mc0_ue_count',\n",
       "       'mc0_ue_noinfo_count', 'mc0_csrow0_ce_count',\n",
       "       'mc0_csrow0_ue_count', 'mc0_csrow0_ch0_ce_count',\n",
       "       'mc0_seconds_since_reset', 'mc1_ce_count', 'mc1_ce_noinfo_count',\n",
       "       'mc1_ue_count', 'mc1_ue_noinfo_count', 'mc1_csrow0_ce_count',\n",
       "       'mc1_csrow0_ue_count', 'mc1_csrow0_ch0_ce_count',\n",
       "       'mc1_seconds_since_reset', 'Time_usec.3', 'ProducerName.3',\n",
       "       'temp0.1', 'temp0.2', 'temp0.3', 'temp0.4', 'temp0.5', 'temp0.6',\n",
       "       'temp0.7', 'temp0.8', 'temp0.9', 'temp1.1', 'temp1.2', 'temp1.3',\n",
       "       'temp1.4', 'temp1.5', 'temp1.6', 'temp1.7', 'temp1.8', 'temp1.9',\n",
       "       'per_core_cpu_freq0', 'per_core_cpu_freq1', 'per_core_cpu_freq2',\n",
       "       'per_core_cpu_freq3', 'per_core_cpu_freq4', 'per_core_cpu_freq5',\n",
       "       'per_core_cpu_freq6', 'per_core_cpu_freq7', 'per_core_cpu_freq8',\n",
       "       'per_core_cpu_freq9', 'per_core_cpu_freq10', 'per_core_cpu_freq11',\n",
       "       'per_core_cpu_freq12', 'per_core_cpu_freq13',\n",
       "       'per_core_cpu_freq14', 'per_core_cpu_freq15', 'Time_usec.4',\n",
       "       'ProducerName.4', 'component_id.3', 'job_id.3', 'cores_up',\n",
       "       'cpu_enabled', 'user', 'nice', 'sys', 'idle', 'iowait', 'irq',\n",
       "       'softirq', 'steal', 'guest', 'guest_nice', 'hwintr_count',\n",
       "       'context_switches', 'processes', 'procs_running', 'procs_blocked',\n",
       "       'softirq_count', 'per_core_cpu_enabled0', 'per_core_cpu_enabled1',\n",
       "       'per_core_cpu_enabled2', 'per_core_cpu_enabled3',\n",
       "       'per_core_cpu_enabled4', 'per_core_cpu_enabled5',\n",
       "       'per_core_cpu_enabled6', 'per_core_cpu_enabled7',\n",
       "       'per_core_cpu_enabled8', 'per_core_cpu_enabled9',\n",
       "       'per_core_cpu_enabled10', 'per_core_cpu_enabled11',\n",
       "       'per_core_cpu_enabled12', 'per_core_cpu_enabled13',\n",
       "       'per_core_cpu_enabled14', 'per_core_cpu_enabled15',\n",
       "       'per_core_user0', 'per_core_user1', 'per_core_user2',\n",
       "       'per_core_user3', 'per_core_user4', 'per_core_user5',\n",
       "       'per_core_user6', 'per_core_user7', 'per_core_user8',\n",
       "       'per_core_user9', 'per_core_user10', 'per_core_user11',\n",
       "       'per_core_user12', 'per_core_user13', 'per_core_user14',\n",
       "       'per_core_user15', 'per_core_nice0', 'per_core_nice1',\n",
       "       'per_core_nice2', 'per_core_nice3', 'per_core_nice4',\n",
       "       'per_core_nice5', 'per_core_nice6', 'per_core_nice7',\n",
       "       'per_core_nice8', 'per_core_nice9', 'per_core_nice10',\n",
       "       'per_core_nice11', 'per_core_nice12', 'per_core_nice13',\n",
       "       'per_core_nice14', 'per_core_nice15', 'per_core_sys0',\n",
       "       'per_core_sys1', 'per_core_sys2', 'per_core_sys3', 'per_core_sys4',\n",
       "       'per_core_sys5', 'per_core_sys6', 'per_core_sys7', 'per_core_sys8',\n",
       "       'per_core_sys9', 'per_core_sys10', 'per_core_sys11',\n",
       "       'per_core_sys12', 'per_core_sys13', 'per_core_sys14',\n",
       "       'per_core_sys15', 'per_core_idle0', 'per_core_idle1',\n",
       "       'per_core_idle2', 'per_core_idle3', 'per_core_idle4',\n",
       "       'per_core_idle5', 'per_core_idle6', 'per_core_idle7',\n",
       "       'per_core_idle8', 'per_core_idle9', 'per_core_idle10',\n",
       "       'per_core_idle11', 'per_core_idle12', 'per_core_idle13',\n",
       "       'per_core_idle14', 'per_core_idle15', 'per_core_iowait0',\n",
       "       'per_core_iowait1', 'per_core_iowait2', 'per_core_iowait3',\n",
       "       'per_core_iowait4', 'per_core_iowait5', 'per_core_iowait6',\n",
       "       'per_core_iowait7', 'per_core_iowait8', 'per_core_iowait9',\n",
       "       'per_core_iowait10', 'per_core_iowait11', 'per_core_iowait12',\n",
       "       'per_core_iowait13', 'per_core_iowait14', 'per_core_iowait15',\n",
       "       'per_core_irq0', 'per_core_irq1', 'per_core_irq2', 'per_core_irq3',\n",
       "       'per_core_irq4', 'per_core_irq5', 'per_core_irq6', 'per_core_irq7',\n",
       "       'per_core_irq8', 'per_core_irq9', 'per_core_irq10',\n",
       "       'per_core_irq11', 'per_core_irq12', 'per_core_irq13',\n",
       "       'per_core_irq14', 'per_core_irq15', 'per_core_softirqd0',\n",
       "       'per_core_softirqd1', 'per_core_softirqd2', 'per_core_softirqd3',\n",
       "       'per_core_softirqd4', 'per_core_softirqd5', 'per_core_softirqd6',\n",
       "       'per_core_softirqd7', 'per_core_softirqd8', 'per_core_softirqd9',\n",
       "       'per_core_softirqd10', 'per_core_softirqd11',\n",
       "       'per_core_softirqd12', 'per_core_softirqd13',\n",
       "       'per_core_softirqd14', 'per_core_softirqd15', 'per_core_steal0',\n",
       "       'per_core_steal1', 'per_core_steal2', 'per_core_steal3',\n",
       "       'per_core_steal4', 'per_core_steal5', 'per_core_steal6',\n",
       "       'per_core_steal7', 'per_core_steal8', 'per_core_steal9',\n",
       "       'per_core_steal10', 'per_core_steal11', 'per_core_steal12',\n",
       "       'per_core_steal13', 'per_core_steal14', 'per_core_steal15',\n",
       "       'per_core_guest0', 'per_core_guest1', 'per_core_guest2',\n",
       "       'per_core_guest3', 'per_core_guest4', 'per_core_guest5',\n",
       "       'per_core_guest6', 'per_core_guest7', 'per_core_guest8',\n",
       "       'per_core_guest9', 'per_core_guest10', 'per_core_guest11',\n",
       "       'per_core_guest12', 'per_core_guest13', 'per_core_guest14',\n",
       "       'per_core_guest15', 'per_core_guest_nice0', 'per_core_guest_nice1',\n",
       "       'per_core_guest_nice2', 'per_core_guest_nice3',\n",
       "       'per_core_guest_nice4', 'per_core_guest_nice5',\n",
       "       'per_core_guest_nice6', 'per_core_guest_nice7',\n",
       "       'per_core_guest_nice8', 'per_core_guest_nice9',\n",
       "       'per_core_guest_nice10', 'per_core_guest_nice11',\n",
       "       'per_core_guest_nice12', 'per_core_guest_nice13',\n",
       "       'per_core_guest_nice14', 'per_core_guest_nice15', '#Fault',\n",
       "       '#Benchmark'], dtype=object)"
      ]
     },
     "execution_count": 11,
     "metadata": {},
     "output_type": "execute_result"
    }
   ],
   "source": [
    "df.columns.values"
   ]
  },
  {
   "cell_type": "code",
   "execution_count": 12,
   "metadata": {},
   "outputs": [],
   "source": [
    "threshold = 0.3\n",
    "df_std = df.std(numeric_only=True)"
   ]
  },
  {
   "cell_type": "code",
   "execution_count": 13,
   "metadata": {
    "pycharm": {
     "is_executing": true,
     "name": "#%%\n"
    }
   },
   "outputs": [
    {
     "name": "stdout",
     "output_type": "stream",
     "text": [
      "424\n",
      "215\n",
      "['Unnamed: 0' '#Time' 'Time_usec' 'ProducerName' 'nr_free_pages'\n",
      " 'nr_alloc_batch' 'nr_inactive_anon' 'nr_active_anon' 'nr_inactive_file'\n",
      " 'nr_active_file' 'nr_anon_pages' 'nr_mapped' 'nr_file_pages' 'nr_dirty'\n",
      " 'nr_slab_reclaimable' 'nr_slab_unreclaimable' 'nr_page_table_pages'\n",
      " 'nr_kernel_stack' 'nr_isolated_anon' 'nr_shmem' 'nr_dirtied' 'nr_written'\n",
      " 'numa_hit' 'numa_local' 'numa_other' 'nr_anon_transparent_hugepages'\n",
      " 'nr_dirty_threshold' 'nr_dirty_background_threshold' 'pgpgin' 'pgpgout'\n",
      " 'pgalloc_dma32' 'pgalloc_normal' 'pgfree' 'pgactivate' 'pgfault'\n",
      " 'pgmajfault' 'numa_pte_updates' 'numa_huge_pte_updates'\n",
      " 'numa_hint_faults' 'numa_hint_faults_local' 'numa_pages_migrated'\n",
      " 'pgmigrate_success' 'pgmigrate_fail' 'thp_fault_alloc'\n",
      " 'thp_collapse_alloc' 'thp_split' 'Time_usec.1' 'ProducerName.1' 'MemFree'\n",
      " 'MemAvailable' 'Cached' 'Active' 'Inactive' 'Active(anon)'\n",
      " 'Inactive(anon)' 'Active(file)' 'Inactive(file)' 'Dirty' 'AnonPages'\n",
      " 'Mapped' 'Shmem' 'Slab' 'SReclaimable' 'SUnreclaim' 'KernelStack'\n",
      " 'PageTables' 'Committed_AS' 'VmallocTotal' 'AnonHugePages' 'Time_usec.2'\n",
      " 'ProducerName.2' 'mc0_seconds_since_reset' 'mc1_seconds_since_reset'\n",
      " 'Time_usec.3' 'ProducerName.3' 'temp0.1' 'temp0.2' 'temp0.3' 'temp0.4'\n",
      " 'temp0.5' 'temp0.6' 'temp0.7' 'temp0.8' 'temp0.9' 'temp1.1' 'temp1.2'\n",
      " 'temp1.3' 'temp1.4' 'temp1.5' 'temp1.6' 'temp1.7' 'temp1.8' 'temp1.9'\n",
      " 'per_core_cpu_freq0' 'per_core_cpu_freq1' 'per_core_cpu_freq2'\n",
      " 'per_core_cpu_freq3' 'per_core_cpu_freq4' 'per_core_cpu_freq5'\n",
      " 'per_core_cpu_freq6' 'per_core_cpu_freq7' 'per_core_cpu_freq8'\n",
      " 'per_core_cpu_freq9' 'per_core_cpu_freq10' 'per_core_cpu_freq11'\n",
      " 'per_core_cpu_freq12' 'per_core_cpu_freq13' 'per_core_cpu_freq14'\n",
      " 'per_core_cpu_freq15' 'Time_usec.4' 'ProducerName.4' 'user' 'nice' 'sys'\n",
      " 'idle' 'iowait' 'softirq' 'hwintr_count' 'context_switches' 'processes'\n",
      " 'procs_running' 'softirq_count' 'per_core_user0' 'per_core_user1'\n",
      " 'per_core_user2' 'per_core_user3' 'per_core_user4' 'per_core_user5'\n",
      " 'per_core_user6' 'per_core_user7' 'per_core_user8' 'per_core_user9'\n",
      " 'per_core_user10' 'per_core_user11' 'per_core_user12' 'per_core_user13'\n",
      " 'per_core_user14' 'per_core_user15' 'per_core_nice1' 'per_core_nice2'\n",
      " 'per_core_nice3' 'per_core_nice4' 'per_core_nice5' 'per_core_nice6'\n",
      " 'per_core_nice7' 'per_core_nice8' 'per_core_nice9' 'per_core_nice10'\n",
      " 'per_core_nice11' 'per_core_nice12' 'per_core_nice13' 'per_core_nice14'\n",
      " 'per_core_nice15' 'per_core_sys0' 'per_core_sys1' 'per_core_sys2'\n",
      " 'per_core_sys3' 'per_core_sys4' 'per_core_sys5' 'per_core_sys6'\n",
      " 'per_core_sys7' 'per_core_sys8' 'per_core_sys9' 'per_core_sys10'\n",
      " 'per_core_sys11' 'per_core_sys12' 'per_core_sys13' 'per_core_sys14'\n",
      " 'per_core_sys15' 'per_core_idle0' 'per_core_idle1' 'per_core_idle2'\n",
      " 'per_core_idle3' 'per_core_idle4' 'per_core_idle5' 'per_core_idle6'\n",
      " 'per_core_idle7' 'per_core_idle8' 'per_core_idle9' 'per_core_idle10'\n",
      " 'per_core_idle11' 'per_core_idle12' 'per_core_idle13' 'per_core_idle14'\n",
      " 'per_core_idle15' 'per_core_iowait0' 'per_core_iowait2'\n",
      " 'per_core_iowait4' 'per_core_iowait5' 'per_core_iowait6'\n",
      " 'per_core_iowait7' 'per_core_iowait8' 'per_core_iowait9'\n",
      " 'per_core_iowait10' 'per_core_iowait11' 'per_core_iowait12'\n",
      " 'per_core_iowait13' 'per_core_iowait14' 'per_core_iowait15'\n",
      " 'per_core_softirqd1' 'per_core_softirqd2' 'per_core_softirqd3'\n",
      " 'per_core_softirqd4' 'per_core_softirqd5' 'per_core_softirqd6'\n",
      " 'per_core_softirqd7' 'per_core_softirqd9' 'per_core_softirqd10'\n",
      " 'per_core_softirqd11' 'per_core_softirqd12' 'per_core_softirqd13'\n",
      " 'per_core_softirqd14' 'per_core_softirqd15' '#Fault' '#Benchmark']\n"
     ]
    }
   ],
   "source": [
    "df2 = df.drop(df_std[df_std < threshold].index.values, axis=1)\n",
    "df.columns.values\n",
    "print(len(df.columns.values))\n",
    "print(len(df2.columns.values))\n",
    "print(df2.columns.values)\n",
    "# pcorr = sns.heatmap(df2.corr(), annot=True, annot_kws={\"size\": 8})\n",
    "# plt.show()"
   ]
  },
  {
   "cell_type": "code",
   "execution_count": 14,
   "metadata": {
    "pycharm": {
     "is_executing": true,
     "name": "#%%\n"
    }
   },
   "outputs": [
    {
     "data": {
      "text/plain": [
       "array(['antarex', 'antarex', 'antarex', ..., nan, nan, nan], dtype=object)"
      ]
     },
     "execution_count": 14,
     "metadata": {},
     "output_type": "execute_result"
    }
   ],
   "source": [
    "df2['ProducerName'].values"
   ]
  },
  {
   "cell_type": "code",
   "execution_count": 15,
   "metadata": {
    "pycharm": {
     "is_executing": true,
     "name": "#%%\n"
    }
   },
   "outputs": [
    {
     "data": {
      "text/plain": [
       "Unnamed: 0                         int64\n",
       "#Time                            float64\n",
       "Time_usec                        float64\n",
       "ProducerName                      object\n",
       "nr_free_pages                    float64\n",
       "nr_alloc_batch                   float64\n",
       "nr_inactive_anon                 float64\n",
       "nr_active_anon                   float64\n",
       "nr_inactive_file                 float64\n",
       "nr_active_file                   float64\n",
       "nr_anon_pages                    float64\n",
       "nr_mapped                        float64\n",
       "nr_file_pages                    float64\n",
       "nr_dirty                         float64\n",
       "nr_slab_reclaimable              float64\n",
       "nr_slab_unreclaimable            float64\n",
       "nr_page_table_pages              float64\n",
       "nr_kernel_stack                  float64\n",
       "nr_isolated_anon                 float64\n",
       "nr_shmem                         float64\n",
       "nr_dirtied                       float64\n",
       "nr_written                       float64\n",
       "numa_hit                         float64\n",
       "numa_local                       float64\n",
       "numa_other                       float64\n",
       "nr_anon_transparent_hugepages    float64\n",
       "nr_dirty_threshold               float64\n",
       "nr_dirty_background_threshold    float64\n",
       "pgpgin                           float64\n",
       "pgpgout                          float64\n",
       "                                  ...   \n",
       "per_core_iowait0                 float64\n",
       "per_core_iowait2                 float64\n",
       "per_core_iowait4                 float64\n",
       "per_core_iowait5                 float64\n",
       "per_core_iowait6                 float64\n",
       "per_core_iowait7                 float64\n",
       "per_core_iowait8                 float64\n",
       "per_core_iowait9                 float64\n",
       "per_core_iowait10                float64\n",
       "per_core_iowait11                float64\n",
       "per_core_iowait12                float64\n",
       "per_core_iowait13                float64\n",
       "per_core_iowait14                float64\n",
       "per_core_iowait15                float64\n",
       "per_core_softirqd1               float64\n",
       "per_core_softirqd2               float64\n",
       "per_core_softirqd3               float64\n",
       "per_core_softirqd4               float64\n",
       "per_core_softirqd5               float64\n",
       "per_core_softirqd6               float64\n",
       "per_core_softirqd7               float64\n",
       "per_core_softirqd9               float64\n",
       "per_core_softirqd10              float64\n",
       "per_core_softirqd11              float64\n",
       "per_core_softirqd12              float64\n",
       "per_core_softirqd13              float64\n",
       "per_core_softirqd14              float64\n",
       "per_core_softirqd15              float64\n",
       "#Fault                            object\n",
       "#Benchmark                        object\n",
       "Length: 215, dtype: object"
      ]
     },
     "execution_count": 15,
     "metadata": {},
     "output_type": "execute_result"
    }
   ],
   "source": [
    "df2.dtypes"
   ]
  },
  {
   "cell_type": "code",
   "execution_count": 16,
   "metadata": {
    "pycharm": {
     "is_executing": true,
     "name": "#%%\n"
    }
   },
   "outputs": [
    {
     "data": {
      "text/plain": [
       "Index(['ProducerName', 'ProducerName.1', 'ProducerName.2', 'ProducerName.3',\n",
       "       'ProducerName.4', '#Fault', '#Benchmark'],\n",
       "      dtype='object')"
      ]
     },
     "execution_count": 16,
     "metadata": {},
     "output_type": "execute_result"
    }
   ],
   "source": [
    "# Selecting based on dtype\n",
    "df2.select_dtypes(['object']).columns"
   ]
  },
  {
   "cell_type": "code",
   "execution_count": 17,
   "metadata": {
    "pycharm": {
     "is_executing": true,
     "name": "#%%\n"
    }
   },
   "outputs": [
    {
     "data": {
      "text/plain": [
       "Index(['#Fault', '#Benchmark'], dtype='object')"
      ]
     },
     "execution_count": 17,
     "metadata": {},
     "output_type": "execute_result"
    }
   ],
   "source": [
    "# delete Unwanted columns\n",
    "df2.drop(['ProducerName', 'ProducerName.1', 'ProducerName.2', 'ProducerName.3', 'ProducerName.4'], axis=1, inplace=True)\n",
    "df2.select_dtypes(['object']).columns"
   ]
  },
  {
   "cell_type": "code",
   "execution_count": 18,
   "metadata": {
    "pycharm": {
     "is_executing": true,
     "name": "#%%\n"
    }
   },
   "outputs": [
    {
     "data": {
      "text/plain": [
       "array(['None', 'cpufreq_0', 'pagefail_0', 'leak_0', 'ddot_0',\n",
       "       'memeater_0', 'dial_0'], dtype=object)"
      ]
     },
     "execution_count": 18,
     "metadata": {},
     "output_type": "execute_result"
    }
   ],
   "source": [
    "df2['#Fault'].unique()\n"
   ]
  },
  {
   "cell_type": "code",
   "execution_count": 19,
   "metadata": {
    "pycharm": {
     "is_executing": true,
     "name": "#%%\n"
    }
   },
   "outputs": [
    {
     "data": {
      "text/plain": [
       "None          682805\n",
       "leak_0         63136\n",
       "ddot_0         63055\n",
       "dial_0         57595\n",
       "memeater_0     57465\n",
       "cpufreq_0      56981\n",
       "pagefail_0     55770\n",
       "Name: #Fault, dtype: int64"
      ]
     },
     "execution_count": 19,
     "metadata": {},
     "output_type": "execute_result"
    }
   ],
   "source": [
    "df2['#Fault'].value_counts()"
   ]
  },
  {
   "cell_type": "code",
   "execution_count": 20,
   "metadata": {
    "pycharm": {
     "name": "#%%\n"
    }
   },
   "outputs": [],
   "source": [
    "df2.to_csv('processed.csv')\n",
    "# pearsoncorr = df.corr(method='pearson')\n",
    "# colormap = \"jet\"\n",
    "# plt.figure(figsize=(16, 12))\n",
    "# plt.title('Pearson correlation of continuous features', y=1.05, size=15)\n",
    "# data = train.drop(['id'], axis=1)\n",
    "# sns.heatmap(df.corr(),linewidths=0.1,vmax=1.0, vmin=-1.0, square=True, cmap=colormap, linecolor='white')\n",
    "# pcorr = sns.heatmap(df.corr(), annot=True, annot_kws={\"size\": 8})\n",
    "# plt.show()"
   ]
  },
  {
   "cell_type": "code",
   "execution_count": null,
   "metadata": {},
   "outputs": [],
   "source": []
  }
 ],
 "metadata": {
  "kernelspec": {
   "display_name": "Python 3",
   "language": "python",
   "name": "python3"
  },
  "language_info": {
   "codemirror_mode": {
    "name": "ipython",
    "version": 3
   },
   "file_extension": ".py",
   "mimetype": "text/x-python",
   "name": "python",
   "nbconvert_exporter": "python",
   "pygments_lexer": "ipython3",
   "version": "3.6.6"
  },
  "pycharm": {
   "stem_cell": {
    "cell_type": "raw",
    "source": [],
    "metadata": {
     "collapsed": false
    }
   }
  }
 },
 "nbformat": 4,
 "nbformat_minor": 1
}